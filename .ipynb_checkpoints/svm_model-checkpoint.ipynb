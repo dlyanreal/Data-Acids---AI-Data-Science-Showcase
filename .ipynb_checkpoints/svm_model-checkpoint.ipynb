{
 "cells": [
  {
   "cell_type": "markdown",
   "id": "bb0f17a8-ed9f-4241-b07a-0be3123fdc36",
   "metadata": {},
   "source": [
    "# SVM Model"
   ]
  },
  {
   "cell_type": "code",
   "execution_count": 61,
   "id": "c4b37a24-b127-4b71-a0db-d38812776e0d",
   "metadata": {},
   "outputs": [],
   "source": [
    "import pandas as pd\n",
    "from sklearn.model_selection import train_test_split, GridSearchCV\n",
    "from sklearn.preprocessing import LabelEncoder, StandardScaler\n",
    "from sklearn.svm import SVC\n",
    "from sklearn.metrics import accuracy_score"
   ]
  },
  {
   "cell_type": "markdown",
   "id": "3e02a750-5f5b-4a8e-bea3-0c7bd4d6c957",
   "metadata": {},
   "source": [
    "## 1. Reading Dataset & Exploring"
   ]
  },
  {
   "cell_type": "code",
   "execution_count": 84,
   "id": "259bf75d-0e4c-4671-81a4-9808f119ad26",
   "metadata": {
    "scrolled": true
   },
   "outputs": [
    {
     "name": "stdout",
     "output_type": "stream",
     "text": [
      "<class 'pandas.core.frame.DataFrame'>\n",
      "RangeIndex: 11861 entries, 0 to 11860\n",
      "Data columns (total 35 columns):\n",
      " #   Column                      Non-Null Count  Dtype  \n",
      "---  ------                      --------------  -----  \n",
      " 0   report_name                 11861 non-null  object \n",
      " 1   common_name                 8734 non-null   object \n",
      " 2   m_ori_name                  700 non-null    object \n",
      " 3   species_name                11861 non-null  object \n",
      " 4   category                    11861 non-null  object \n",
      " 5   subcategory                 11861 non-null  object \n",
      " 6   status_change               9469 non-null   object \n",
      " 7   subcategory_change          9420 non-null   object \n",
      " 8   assessment_id               11861 non-null  int64  \n",
      " 9   report_id                   11861 non-null  int64  \n",
      " 10  species_id                  11861 non-null  int64  \n",
      " 11  genus                       11861 non-null  object \n",
      " 12  family                      11861 non-null  object \n",
      " 13  order                       11809 non-null  object \n",
      " 14  class                       11809 non-null  object \n",
      " 15  phylum                      11809 non-null  object \n",
      " 16  kingdom                     11809 non-null  object \n",
      " 17  pop_state                   5241 non-null   object \n",
      " 18  pop_size                    4985 non-null   object \n",
      " 19  size_confidence             4977 non-null   object \n",
      " 20  pop_trend                   5595 non-null   object \n",
      " 21  time_span_years             209 non-null    float64\n",
      " 22  trend_confidence            5175 non-null   object \n",
      " 23  qualifiers                  6928 non-null   object \n",
      " 24  bio_status                  11861 non-null  object \n",
      " 25  cd                          359 non-null    object \n",
      " 26  data_poor                   1638 non-null   object \n",
      " 27  native_resident_living      11861 non-null  bool   \n",
      " 28  conservation_dependent      11861 non-null  bool   \n",
      " 29  report                      11861 non-null  object \n",
      " 30  report_group                11861 non-null  object \n",
      " 31  domain                      11861 non-null  object \n",
      " 32  report_group_year           11861 non-null  object \n",
      " 33  report_group_comprehensive  11861 non-null  bool   \n",
      " 34  population_trend            11861 non-null  object \n",
      "dtypes: bool(3), float64(1), int64(3), object(28)\n",
      "memory usage: 2.9+ MB\n",
      "\n",
      "report_name                       0\n",
      "common_name                    3127\n",
      "m_ori_name                    11161\n",
      "species_name                      0\n",
      "category                          0\n",
      "subcategory                       0\n",
      "status_change                  2392\n",
      "subcategory_change             2441\n",
      "assessment_id                     0\n",
      "report_id                         0\n",
      "species_id                        0\n",
      "genus                             0\n",
      "family                            0\n",
      "order                            52\n",
      "class                            52\n",
      "phylum                           52\n",
      "kingdom                          52\n",
      "pop_state                      6620\n",
      "pop_size                       6876\n",
      "size_confidence                6884\n",
      "pop_trend                      6266\n",
      "time_span_years               11652\n",
      "trend_confidence               6686\n",
      "qualifiers                     4933\n",
      "bio_status                        0\n",
      "cd                            11502\n",
      "data_poor                     10223\n",
      "native_resident_living            0\n",
      "conservation_dependent            0\n",
      "report                            0\n",
      "report_group                      0\n",
      "domain                            0\n",
      "report_group_year                 0\n",
      "report_group_comprehensive        0\n",
      "population_trend                  0\n",
      "dtype: int64\n"
     ]
    }
   ],
   "source": [
    "# Read dataset\n",
    "species = pd.read_csv('extinction-threat-to-indigenous-land-species.csv')\n",
    "\n",
    "# Basic Info\n",
    "species.info()\n",
    "print()\n",
    "print(species.isnull().sum())\n",
    "\n",
    "# Slecting num of rows\n",
    "species_small = species.iloc[:10000]"
   ]
  },
  {
   "cell_type": "markdown",
   "id": "2418e6cc-63d9-4f61-b142-ac2957b2e94f",
   "metadata": {},
   "source": [
    "## 2. Preprocessing - Handling Missing Data"
   ]
  },
  {
   "cell_type": "code",
   "execution_count": 87,
   "id": "04aabc97-4a1f-46e2-87cc-bb4d9d45fb6b",
   "metadata": {},
   "outputs": [],
   "source": [
    "# Feature Selection: Selecting important columns\n",
    "selected_cols = [\n",
    "    'order', 'class', 'kingdom', 'domain', 'genus', 'conservation_dependent', 'population_trend', \n",
    "    'phylum', 'family', 'pop_size', 'trend_confidence', 'time_span_years', 'qualifiers', 'bio_status']\n",
    "\n",
    "X = species_small[selected_cols]\n",
    "y = species_small['category'] # target variable\n",
    "\n",
    "# Handle missing values\n",
    "X = X.fillna('Unknown')"
   ]
  },
  {
   "cell_type": "markdown",
   "id": "aa6fa7cf-8827-437c-9bc9-cef8666aa8b3",
   "metadata": {},
   "source": [
    "### Encoding "
   ]
  },
  {
   "cell_type": "code",
   "execution_count": 90,
   "id": "604e2795-8ec3-45c6-9db7-f3b4000a37fc",
   "metadata": {},
   "outputs": [],
   "source": [
    "# Encode categorical columns\n",
    "for col in X.select_dtypes(include='object').columns:\n",
    "    X[col] = LabelEncoder().fit_transform(X[col].astype(str))\n",
    "\n",
    "# Lable Encode\n",
    "y_encoded = LabelEncoder().fit_transform(y)\n",
    "\n",
    "# New Modified Data"
   ]
  },
  {
   "cell_type": "markdown",
   "id": "28935da0-ea9a-4c96-86b4-0684c1f89bf8",
   "metadata": {},
   "source": [
    "## 3. Splitting Data"
   ]
  },
  {
   "cell_type": "code",
   "execution_count": 93,
   "id": "cc22b2aa-56ff-476e-a7a5-3412c8135af0",
   "metadata": {},
   "outputs": [],
   "source": [
    "X_train, X_test, y_train, y_test = train_test_split(X, y_encoded, test_size=0.3, random_state=42, stratify=y_encoded)"
   ]
  },
  {
   "cell_type": "markdown",
   "id": "adcc3e05-cbf3-4cf5-b44b-56a137780c94",
   "metadata": {},
   "source": [
    "## 4. Scaling Features"
   ]
  },
  {
   "cell_type": "code",
   "execution_count": 96,
   "id": "c5e5b0e9-5db6-4364-a5ff-45af9b77327f",
   "metadata": {},
   "outputs": [],
   "source": [
    "# Standard Scaling for SVM - best option\n",
    "scaler = StandardScaler()\n",
    "X_train_scaled = scaler.fit_transform(X_train)\n",
    "X_test_scaled = scaler.transform(X_test)"
   ]
  },
  {
   "cell_type": "markdown",
   "id": "26ec9d6e-b769-47d6-b13f-aaeb788e468b",
   "metadata": {},
   "source": [
    "## 5. Tuning SVM Parameters Using Gird Search for Improved Accuracy"
   ]
  },
  {
   "cell_type": "code",
   "execution_count": 99,
   "id": "69f1786e-03d3-42be-a937-00c4b02332bc",
   "metadata": {},
   "outputs": [
    {
     "name": "stdout",
     "output_type": "stream",
     "text": [
      "Fitting 5 folds for each of 72 candidates, totalling 360 fits\n",
      "Best Parameters: {'C': 20, 'degree': 2, 'gamma': 'scale', 'kernel': 'rbf'}\n"
     ]
    }
   ],
   "source": [
    "# Bigger grid = better model search\n",
    "param_grid = {\n",
    "    'C': [1, 10, 20],\n",
    "    'kernel': ['linear', 'rbf', 'poly', 'sigmoid'],\n",
    "    'gamma': ['scale', 'auto'],\n",
    "    'degree': [2, 3, 4]  # for poly kernels\n",
    "}\n",
    "grid = GridSearchCV(SVC(), param_grid, cv=5, verbose=1, n_jobs=-1)\n",
    "grid.fit(X_train_scaled, y_train)\n",
    "\n",
    "print(f\"Best Parameters: {grid.best_params_}\")"
   ]
  },
  {
   "cell_type": "markdown",
   "id": "f52ef380-ae8d-4ecc-b17b-2ebd2472970a",
   "metadata": {},
   "source": [
    "## 6. Model Prediction:\n",
    "- Accuracy: Overall correctness\n",
    "- Precision: Of all things I predicted for a class, how many were actually correct? (Higher = better)\n",
    "- Recall: Of all things that really belonged to a class, how many did we find? (Higher = better)\n",
    "- F1 Score: Precision & Recall\n",
    "- Confusion Matrix:"
   ]
  },
  {
   "cell_type": "code",
   "execution_count": 101,
   "id": "ae276a3b-5bb5-4a03-869e-e7d248710d1f",
   "metadata": {},
   "outputs": [
    {
     "name": "stdout",
     "output_type": "stream",
     "text": [
      "Train Accuracy: 0.8771\n",
      "Final Accuracy: 0.8217\n",
      "\n",
      "Classification Report:\n",
      "                                precision    recall  f1-score   support\n",
      "\n",
      "At risk of becoming threatened       0.80      0.80      0.80       769\n",
      "                Data deficient       0.80      0.84      0.82       886\n",
      "                Not threatened       0.87      0.87      0.87      1119\n",
      "                    Threatened       0.71      0.54      0.61       226\n",
      "\n",
      "                      accuracy                           0.82      3000\n",
      "                     macro avg       0.80      0.76      0.78      3000\n",
      "                  weighted avg       0.82      0.82      0.82      3000\n",
      "\n"
     ]
    },
    {
     "data": {
      "text/plain": [
       "<sklearn.metrics._plot.confusion_matrix.ConfusionMatrixDisplay at 0x163ab6900>"
      ]
     },
     "execution_count": 101,
     "metadata": {},
     "output_type": "execute_result"
    },
    {
     "data": {
      "image/png": "[encoded data removed]",
      "text/plain": [
       "<Figure size 640x480 with 2 Axes>"
      ]
     },
     "metadata": {},
     "output_type": "display_data"
    }
   ],
   "source": [
    "y_pred = grid.predict(X_test_scaled)\n",
    "\n",
    "from sklearn.metrics import classification_report, confusion_matrix, ConfusionMatrixDisplay\n",
    "\n",
    "# Accuracy for training set (70% of dataset) and testing set (30% of dataset)\n",
    "train_acc = grid.best_estimator_.score(X_train_scaled, y_train)\n",
    "print(f\"Train Accuracy: {train_acc:.4f}\") \n",
    "\n",
    "final_accuracy = accuracy_score(y_test, y_pred)\n",
    "print(f\"Final Accuracy: {final_accuracy:.4f}\")\n",
    "\n",
    "# Full Classification Report (Precision, Recall, F1)\n",
    "print(\"\\nClassification Report:\")\n",
    "print(classification_report(y_test, y_pred, target_names=LabelEncoder().fit(species_small['category']).classes_))\n",
    "\n",
    "# Confusion Matrix\n",
    "cm = confusion_matrix(y_test, y_pred)\n",
    "disp = ConfusionMatrixDisplay(confusion_matrix=cm, display_labels=LabelEncoder().fit(species_small['category']).classes_)\n",
    "disp.plot(xticks_rotation=45)"
   ]
  },
  {
   "cell_type": "code",
   "execution_count": null,
   "id": "1449c587-13c9-429f-b7a1-cdc6e5975b7a",
   "metadata": {},
   "outputs": [],
   "source": []
  },
  {
   "cell_type": "code",
   "execution_count": null,
   "id": "dda4f2bf-32df-4be6-b0cb-f49a7e93711a",
   "metadata": {},
   "outputs": [],
   "source": []
  }
 ],
 "metadata": {
  "kernelspec": {
   "display_name": "Python [conda env:base] *",
   "language": "python",
   "name": "conda-base-py"
  },
  "language_info": {
   "codemirror_mode": {
    "name": "ipython",
    "version": 3
   },
   "file_extension": ".py",
   "mimetype": "text/x-python",
   "name": "python",
   "nbconvert_exporter": "python",
   "pygments_lexer": "ipython3",
   "version": "3.12.7"
  }
 },
 "nbformat": 4,
 "nbformat_minor": 5
}
