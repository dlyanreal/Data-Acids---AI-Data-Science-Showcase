{
 "cells": [
  {
   "cell_type": "code",
   "execution_count": 2,
   "id": "27de446d-c54c-400c-b89b-361b901c003c",
   "metadata": {},
   "outputs": [
    {
     "name": "stdout",
     "output_type": "stream",
     "text": [
      "hey there\n"
     ]
    }
   ],
   "source": [
    "print(\"hey there\")"
   ]
  },
  {
   "cell_type": "code",
   "execution_count": null,
   "id": "76451b42-f092-4b95-bccd-cd4f26af82ad",
   "metadata": {},
   "outputs": [],
   "source": []
  }
 ],
 "metadata": {
  "kernelspec": {
   "display_name": "Python [conda env:base] *",
   "language": "python",
   "name": "conda-base-py"
  },
  "language_info": {
   "codemirror_mode": {
    "name": "ipython",
    "version": 3
   },
   "file_extension": ".py",
   "mimetype": "text/x-python",
   "name": "python",
   "nbconvert_exporter": "python",
   "pygments_lexer": "ipython3",
   "version": "3.12.7"
  }
 },
 "nbformat": 4,
 "nbformat_minor": 5
}
