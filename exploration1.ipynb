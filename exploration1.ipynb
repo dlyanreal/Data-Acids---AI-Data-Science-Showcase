{
 "cells": [
  {
   "cell_type": "code",
   "execution_count": 1,
   "id": "aefc8d2d",
   "metadata": {},
   "outputs": [
    {
     "data": {
      "text/html": [
       "<div>\n",
       "<style scoped>\n",
       "    .dataframe tbody tr th:only-of-type {\n",
       "        vertical-align: middle;\n",
       "    }\n",
       "\n",
       "    .dataframe tbody tr th {\n",
       "        vertical-align: top;\n",
       "    }\n",
       "\n",
       "    .dataframe thead th {\n",
       "        text-align: right;\n",
       "    }\n",
       "</style>\n",
       "<table border=\"1\" class=\"dataframe\">\n",
       "  <thead>\n",
       "    <tr style=\"text-align: right;\">\n",
       "      <th></th>\n",
       "      <th>report_name</th>\n",
       "      <th>common_name</th>\n",
       "      <th>m_ori_name</th>\n",
       "      <th>species_name</th>\n",
       "      <th>category</th>\n",
       "      <th>subcategory</th>\n",
       "      <th>status_change</th>\n",
       "      <th>subcategory_change</th>\n",
       "      <th>assessment_id</th>\n",
       "      <th>report_id</th>\n",
       "      <th>...</th>\n",
       "      <th>cd</th>\n",
       "      <th>data_poor</th>\n",
       "      <th>native_resident_living</th>\n",
       "      <th>conservation_dependent</th>\n",
       "      <th>report</th>\n",
       "      <th>report_group</th>\n",
       "      <th>domain</th>\n",
       "      <th>report_group_year</th>\n",
       "      <th>report_group_comprehensive</th>\n",
       "      <th>population_trend</th>\n",
       "    </tr>\n",
       "  </thead>\n",
       "  <tbody>\n",
       "    <tr>\n",
       "      <th>0</th>\n",
       "      <td>Macroalgae 2019 (Nelson et al. 2019)</td>\n",
       "      <td>Red seaweed</td>\n",
       "      <td>NaN</td>\n",
       "      <td>Bangia 1</td>\n",
       "      <td>Data deficient</td>\n",
       "      <td>Data deficient</td>\n",
       "      <td>No change</td>\n",
       "      <td>No change</td>\n",
       "      <td>142794</td>\n",
       "      <td>52</td>\n",
       "      <td>...</td>\n",
       "      <td>NaN</td>\n",
       "      <td>NaN</td>\n",
       "      <td>True</td>\n",
       "      <td>False</td>\n",
       "      <td>Macroalgae 2019</td>\n",
       "      <td>Macroalgae</td>\n",
       "      <td>Marine</td>\n",
       "      <td>Macroalgae (2019)</td>\n",
       "      <td>False</td>\n",
       "      <td>Not available</td>\n",
       "    </tr>\n",
       "    <tr>\n",
       "      <th>1</th>\n",
       "      <td>Macroalgae 2019 (Nelson et al. 2019)</td>\n",
       "      <td>Red seaweed</td>\n",
       "      <td>NaN</td>\n",
       "      <td>Bangia 1</td>\n",
       "      <td>Data deficient</td>\n",
       "      <td>Data deficient</td>\n",
       "      <td>New listing</td>\n",
       "      <td>New listing</td>\n",
       "      <td>108377</td>\n",
       "      <td>52</td>\n",
       "      <td>...</td>\n",
       "      <td>NaN</td>\n",
       "      <td>NaN</td>\n",
       "      <td>True</td>\n",
       "      <td>False</td>\n",
       "      <td>Macroalgae 2019</td>\n",
       "      <td>Macroalgae</td>\n",
       "      <td>Marine</td>\n",
       "      <td>Macroalgae (2019)</td>\n",
       "      <td>False</td>\n",
       "      <td>Not available</td>\n",
       "    </tr>\n",
       "    <tr>\n",
       "      <th>2</th>\n",
       "      <td>Macroalgae 2019 (Nelson et al. 2019)</td>\n",
       "      <td>Red seaweed</td>\n",
       "      <td>NaN</td>\n",
       "      <td>Bangia 1</td>\n",
       "      <td>Data deficient</td>\n",
       "      <td>Data deficient</td>\n",
       "      <td>New listing</td>\n",
       "      <td>New listing</td>\n",
       "      <td>108381</td>\n",
       "      <td>52</td>\n",
       "      <td>...</td>\n",
       "      <td>NaN</td>\n",
       "      <td>NaN</td>\n",
       "      <td>True</td>\n",
       "      <td>False</td>\n",
       "      <td>Macroalgae 2019</td>\n",
       "      <td>Macroalgae</td>\n",
       "      <td>Marine</td>\n",
       "      <td>Macroalgae (2019)</td>\n",
       "      <td>False</td>\n",
       "      <td>Not available</td>\n",
       "    </tr>\n",
       "    <tr>\n",
       "      <th>3</th>\n",
       "      <td>Macroalgae 2019 (Nelson et al. 2019)</td>\n",
       "      <td>Red seaweed</td>\n",
       "      <td>NaN</td>\n",
       "      <td>Bangia 1</td>\n",
       "      <td>Data deficient</td>\n",
       "      <td>Data deficient</td>\n",
       "      <td>New listing</td>\n",
       "      <td>New listing</td>\n",
       "      <td>108382</td>\n",
       "      <td>52</td>\n",
       "      <td>...</td>\n",
       "      <td>NaN</td>\n",
       "      <td>NaN</td>\n",
       "      <td>True</td>\n",
       "      <td>False</td>\n",
       "      <td>Macroalgae 2019</td>\n",
       "      <td>Macroalgae</td>\n",
       "      <td>Marine</td>\n",
       "      <td>Macroalgae (2019)</td>\n",
       "      <td>False</td>\n",
       "      <td>Not available</td>\n",
       "    </tr>\n",
       "    <tr>\n",
       "      <th>4</th>\n",
       "      <td>Macroalgae 2019 (Nelson et al. 2019)</td>\n",
       "      <td>Red seaweed</td>\n",
       "      <td>NaN</td>\n",
       "      <td>Bangia 1</td>\n",
       "      <td>Data deficient</td>\n",
       "      <td>Data deficient</td>\n",
       "      <td>New listing</td>\n",
       "      <td>New listing</td>\n",
       "      <td>108383</td>\n",
       "      <td>52</td>\n",
       "      <td>...</td>\n",
       "      <td>NaN</td>\n",
       "      <td>NaN</td>\n",
       "      <td>True</td>\n",
       "      <td>False</td>\n",
       "      <td>Macroalgae 2019</td>\n",
       "      <td>Macroalgae</td>\n",
       "      <td>Marine</td>\n",
       "      <td>Macroalgae (2019)</td>\n",
       "      <td>False</td>\n",
       "      <td>Not available</td>\n",
       "    </tr>\n",
       "  </tbody>\n",
       "</table>\n",
       "<p>5 rows × 35 columns</p>\n",
       "</div>"
      ],
      "text/plain": [
       "                            report_name  common_name m_ori_name species_name  \\\n",
       "0  Macroalgae 2019 (Nelson et al. 2019)  Red seaweed        NaN     Bangia 1   \n",
       "1  Macroalgae 2019 (Nelson et al. 2019)  Red seaweed        NaN     Bangia 1   \n",
       "2  Macroalgae 2019 (Nelson et al. 2019)  Red seaweed        NaN     Bangia 1   \n",
       "3  Macroalgae 2019 (Nelson et al. 2019)  Red seaweed        NaN     Bangia 1   \n",
       "4  Macroalgae 2019 (Nelson et al. 2019)  Red seaweed        NaN     Bangia 1   \n",
       "\n",
       "         category     subcategory status_change subcategory_change  \\\n",
       "0  Data deficient  Data deficient     No change          No change   \n",
       "1  Data deficient  Data deficient   New listing        New listing   \n",
       "2  Data deficient  Data deficient   New listing        New listing   \n",
       "3  Data deficient  Data deficient   New listing        New listing   \n",
       "4  Data deficient  Data deficient   New listing        New listing   \n",
       "\n",
       "   assessment_id  report_id  ...   cd data_poor native_resident_living  \\\n",
       "0         142794         52  ...  NaN       NaN                   True   \n",
       "1         108377         52  ...  NaN       NaN                   True   \n",
       "2         108381         52  ...  NaN       NaN                   True   \n",
       "3         108382         52  ...  NaN       NaN                   True   \n",
       "4         108383         52  ...  NaN       NaN                   True   \n",
       "\n",
       "  conservation_dependent           report report_group  domain  \\\n",
       "0                  False  Macroalgae 2019   Macroalgae  Marine   \n",
       "1                  False  Macroalgae 2019   Macroalgae  Marine   \n",
       "2                  False  Macroalgae 2019   Macroalgae  Marine   \n",
       "3                  False  Macroalgae 2019   Macroalgae  Marine   \n",
       "4                  False  Macroalgae 2019   Macroalgae  Marine   \n",
       "\n",
       "   report_group_year report_group_comprehensive population_trend  \n",
       "0  Macroalgae (2019)                      False    Not available  \n",
       "1  Macroalgae (2019)                      False    Not available  \n",
       "2  Macroalgae (2019)                      False    Not available  \n",
       "3  Macroalgae (2019)                      False    Not available  \n",
       "4  Macroalgae (2019)                      False    Not available  \n",
       "\n",
       "[5 rows x 35 columns]"
      ]
     },
     "execution_count": 1,
     "metadata": {},
     "output_type": "execute_result"
    }
   ],
   "source": [
    "import numpy as np\n",
    "import pandas as pd\n",
    "import matplotlib.pyplot as plt\n",
    "\n",
    "species = pd.read_csv('extinction-threat-to-indigenous-land-species.csv')\n",
    "\n",
    "species.head()"
   ]
  },
  {
   "cell_type": "code",
   "execution_count": 2,
   "id": "355e2932",
   "metadata": {},
   "outputs": [
    {
     "data": {
      "text/plain": [
       "category\n",
       "Not threatened                    4301\n",
       "Data deficient                    3573\n",
       "At risk of becoming threatened    3079\n",
       "Threatened                         908\n",
       "Name: count, dtype: int64"
      ]
     },
     "execution_count": 2,
     "metadata": {},
     "output_type": "execute_result"
    }
   ],
   "source": [
    "species['category'].value_counts()"
   ]
  },
  {
   "cell_type": "code",
   "execution_count": 3,
   "id": "b70e58ae",
   "metadata": {},
   "outputs": [
    {
     "name": "stdout",
     "output_type": "stream",
     "text": [
      "<class 'pandas.core.frame.DataFrame'>\n",
      "RangeIndex: 11861 entries, 0 to 11860\n",
      "Data columns (total 35 columns):\n",
      " #   Column                      Non-Null Count  Dtype  \n",
      "---  ------                      --------------  -----  \n",
      " 0   report_name                 11861 non-null  object \n",
      " 1   common_name                 8734 non-null   object \n",
      " 2   m_ori_name                  700 non-null    object \n",
      " 3   species_name                11861 non-null  object \n",
      " 4   category                    11861 non-null  object \n",
      " 5   subcategory                 11861 non-null  object \n",
      " 6   status_change               9469 non-null   object \n",
      " 7   subcategory_change          9420 non-null   object \n",
      " 8   assessment_id               11861 non-null  int64  \n",
      " 9   report_id                   11861 non-null  int64  \n",
      " 10  species_id                  11861 non-null  int64  \n",
      " 11  genus                       11861 non-null  object \n",
      " 12  family                      11861 non-null  object \n",
      " 13  order                       11809 non-null  object \n",
      " 14  class                       11809 non-null  object \n",
      " 15  phylum                      11809 non-null  object \n",
      " 16  kingdom                     11809 non-null  object \n",
      " 17  pop_state                   5241 non-null   object \n",
      " 18  pop_size                    4985 non-null   object \n",
      " 19  size_confidence             4977 non-null   object \n",
      " 20  pop_trend                   5595 non-null   object \n",
      " 21  time_span_years             209 non-null    float64\n",
      " 22  trend_confidence            5175 non-null   object \n",
      " 23  qualifiers                  6928 non-null   object \n",
      " 24  bio_status                  11861 non-null  object \n",
      " 25  cd                          359 non-null    object \n",
      " 26  data_poor                   1638 non-null   object \n",
      " 27  native_resident_living      11861 non-null  bool   \n",
      " 28  conservation_dependent      11861 non-null  bool   \n",
      " 29  report                      11861 non-null  object \n",
      " 30  report_group                11861 non-null  object \n",
      " 31  domain                      11861 non-null  object \n",
      " 32  report_group_year           11861 non-null  object \n",
      " 33  report_group_comprehensive  11861 non-null  bool   \n",
      " 34  population_trend            11861 non-null  object \n",
      "dtypes: bool(3), float64(1), int64(3), object(28)\n",
      "memory usage: 2.9+ MB\n"
     ]
    }
   ],
   "source": [
    "species.info()"
   ]
  },
  {
   "cell_type": "code",
   "execution_count": 4,
   "id": "5670e85e",
   "metadata": {},
   "outputs": [
    {
     "data": {
      "text/plain": [
       "domain\n",
       "Land          9571\n",
       "Marine        1569\n",
       "Freshwater     721\n",
       "Name: count, dtype: int64"
      ]
     },
     "execution_count": 4,
     "metadata": {},
     "output_type": "execute_result"
    }
   ],
   "source": [
    "species['domain'].value_counts()"
   ]
  },
  {
   "cell_type": "code",
   "execution_count": 5,
   "id": "a971d98f",
   "metadata": {},
   "outputs": [
    {
     "data": {
      "text/plain": [
       "kingdom\n",
       "Animalia     5288\n",
       "Plantae      4327\n",
       "Fungi        2026\n",
       "Chromista     168\n",
       "Name: count, dtype: int64"
      ]
     },
     "execution_count": 5,
     "metadata": {},
     "output_type": "execute_result"
    }
   ],
   "source": [
    "species['kingdom'].value_counts()"
   ]
  },
  {
   "cell_type": "code",
   "execution_count": 6,
   "id": "98e0e596",
   "metadata": {},
   "outputs": [
    {
     "data": {
      "text/plain": [
       "phylum\n",
       "Arthropoda                     3065\n",
       "Tracheophyta                   2744\n",
       "Ascomycota                     2007\n",
       "Mollusca                        791\n",
       "Marchantiophyta                 747\n",
       "Rhodophyta                      594\n",
       "Nematoda                        567\n",
       "Chordata                        536\n",
       "Annelida                        185\n",
       "Ochrophyta                      168\n",
       "Chlorophyta                     130\n",
       "Bryophyta                        99\n",
       "Cnidaria                         73\n",
       "Porifera                         21\n",
       "Platyhelminthes                  16\n",
       "Basidiomycota                    14\n",
       "Anthocerotophyta                 13\n",
       "Onychophora                      12\n",
       "Echinodermata                     7\n",
       "Bryozoa                           7\n",
       "Nematomorpha                      6\n",
       "Fungi Phylum incertae sedis       5\n",
       "Nemertea                          1\n",
       "Brachiopoda                       1\n",
       "Name: count, dtype: int64"
      ]
     },
     "execution_count": 6,
     "metadata": {},
     "output_type": "execute_result"
    }
   ],
   "source": [
    "species['phylum'].value_counts()"
   ]
  },
  {
   "cell_type": "code",
   "execution_count": 7,
   "id": "82427e09",
   "metadata": {},
   "outputs": [
    {
     "data": {
      "text/plain": [
       "class\n",
       "Magnoliopsida                2499\n",
       "Insecta                      1920\n",
       "Lecanoromycetes              1625\n",
       "Arachnida                    1046\n",
       "Jungermanniopsida             722\n",
       "                             ... \n",
       "Palmophyllophyceae              1\n",
       "Polytrichopsida                 1\n",
       "Enopla                          1\n",
       "Petromyzonti                    1\n",
       "Arthropoda incertae sedis       1\n",
       "Name: count, Length: 78, dtype: int64"
      ]
     },
     "execution_count": 7,
     "metadata": {},
     "output_type": "execute_result"
    }
   ],
   "source": [
    "species['class'].value_counts()"
   ]
  },
  {
   "cell_type": "code",
   "execution_count": 8,
   "id": "c00e0c62",
   "metadata": {},
   "outputs": [
    {
     "data": {
      "text/plain": [
       "order\n",
       "Araneae                           1033\n",
       "Lecanorales                        906\n",
       "Jungermanniales                    555\n",
       "Coleoptera                         493\n",
       "Poales                             455\n",
       "                                  ... \n",
       "Sordariomycetes incertae sedis       1\n",
       "Gigaspermales                        1\n",
       "Petromyzontiformes                   1\n",
       "Pandanales                           1\n",
       "Sorbeoconcha                         1\n",
       "Name: count, Length: 354, dtype: int64"
      ]
     },
     "execution_count": 8,
     "metadata": {},
     "output_type": "execute_result"
    }
   ],
   "source": [
    "species['order'].value_counts()"
   ]
  },
  {
   "cell_type": "code",
   "execution_count": 9,
   "id": "96fa1272",
   "metadata": {},
   "outputs": [
    {
     "data": {
      "text/plain": [
       "family\n",
       "Asteraceae                       416\n",
       "Parmeliaceae                     240\n",
       "Poaceae                          226\n",
       "Cyperaceae                       179\n",
       "Charopidae                       179\n",
       "                                ... \n",
       "Menyanthaceae                      1\n",
       "Schizopathidae                     1\n",
       "Phyllachorales incertae sedis      1\n",
       "Archidiaceae                       1\n",
       "Anura incertae sedis               1\n",
       "Name: count, Length: 1111, dtype: int64"
      ]
     },
     "execution_count": 9,
     "metadata": {},
     "output_type": "execute_result"
    }
   ],
   "source": [
    "species['family'].value_counts()"
   ]
  },
  {
   "cell_type": "code",
   "execution_count": 10,
   "id": "f5b58fb6",
   "metadata": {},
   "outputs": [
    {
     "data": {
      "text/plain": [
       "genus\n",
       "Veronica                   150\n",
       "Punctidae sp.              140\n",
       "Carex                      116\n",
       "Charopidae sp.             112\n",
       "Cladonia                    86\n",
       "                          ... \n",
       "Jackiella                    1\n",
       "Ixodiphagus                  1\n",
       "Ixodes                       1\n",
       "Ixerba                       1\n",
       "Tineidae incertae sedis      1\n",
       "Name: count, Length: 3253, dtype: int64"
      ]
     },
     "execution_count": 10,
     "metadata": {},
     "output_type": "execute_result"
    }
   ],
   "source": [
    "species['genus'].value_counts()"
   ]
  },
  {
   "cell_type": "code",
   "execution_count": 11,
   "id": "275de68d",
   "metadata": {},
   "outputs": [
    {
     "data": {
      "text/plain": [
       "species_name\n",
       "Veronica                   150\n",
       "Punctidae sp.              140\n",
       "Carex                      116\n",
       "Charopidae sp.             112\n",
       "Cladonia                    86\n",
       "                          ... \n",
       "Jackiella                    1\n",
       "Ixodiphagus                  1\n",
       "Ixodes                       1\n",
       "Ixerba                       1\n",
       "Tineidae incertae sedis      1\n",
       "Name: count, Length: 3253, dtype: int64"
      ]
     },
     "execution_count": 11,
     "metadata": {},
     "output_type": "execute_result"
    }
   ],
   "source": [
    "species['species_name'].value_counts()"
   ]
  }
 ],
 "metadata": {
  "kernelspec": {
   "display_name": "base",
   "language": "python",
   "name": "python3"
  },
  "language_info": {
   "codemirror_mode": {
    "name": "ipython",
    "version": 3
   },
   "file_extension": ".py",
   "mimetype": "text/x-python",
   "name": "python",
   "nbconvert_exporter": "python",
   "pygments_lexer": "ipython3",
   "version": "3.12.2"
  }
 },
 "nbformat": 4,
 "nbformat_minor": 5
}
